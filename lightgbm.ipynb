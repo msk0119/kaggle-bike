{
 "cells": [
  {
   "cell_type": "code",
   "execution_count": 449,
   "metadata": {},
   "outputs": [],
   "source": [
    "import lightgbm as lgb\n",
    "#%matplotlib inline\n",
    "import pandas as pd\n",
    "import numpy as np\n",
    "from sklearn.model_selection import train_test_split\n",
    "from sklearn.model_selection import KFold, ParameterGrid\n",
    "from tqdm import tqdm\n",
    "from logging import getLogger, StreamHandler, DEBUG, Formatter, FileHandler\n",
    "from sklearn.metrics import mean_squared_error\n",
    "import xgboost as xgb"
   ]
  },
  {
   "cell_type": "code",
   "execution_count": 450,
   "metadata": {},
   "outputs": [],
   "source": [
    "df = pd.read_csv('D:/ml/kaggle/Bike Sharing Demand/train.csv', parse_dates=[0])\n",
    "test = pd.read_csv('D:/ml/kaggle/Bike Sharing Demand/test.csv', parse_dates=[0])"
   ]
  },
  {
   "cell_type": "code",
   "execution_count": 451,
   "metadata": {},
   "outputs": [],
   "source": [
    "df['count'] = np.log(df['count'] + 1)"
   ]
  },
  {
   "cell_type": "code",
   "execution_count": 452,
   "metadata": {},
   "outputs": [],
   "source": [
    "df.rename(columns={'count':'rentals'}, inplace=True)"
   ]
  },
  {
   "cell_type": "code",
   "execution_count": 453,
   "metadata": {},
   "outputs": [],
   "source": [
    "df = df.append(test,sort=False)"
   ]
  },
  {
   "cell_type": "code",
   "execution_count": 454,
   "metadata": {},
   "outputs": [],
   "source": [
    "df['year'] = df['datetime'].dt.year\n",
    "df['month'] = df['datetime'].dt.month\n",
    "df['day'] = df['datetime'].dt.day\n",
    "df['dayofweek'] = df['datetime'].dt.dayofweek\n",
    "df['hour'] = df['datetime'].dt.hour"
   ]
  },
  {
   "cell_type": "code",
   "execution_count": 455,
   "metadata": {},
   "outputs": [],
   "source": [
    "df.sort_values('datetime', inplace=True)"
   ]
  },
  {
   "cell_type": "code",
   "execution_count": 456,
   "metadata": {},
   "outputs": [],
   "source": [
    "test = df[df['rentals'].isnull()]\n",
    "df = df[~df['rentals'].isnull()]"
   ]
  },
  {
   "cell_type": "code",
   "execution_count": 457,
   "metadata": {},
   "outputs": [],
   "source": [
    "removed_cols = ['rentals', 'casual', 'registered', 'datetime', 'atemp', 'holiday', 'month']"
   ]
  },
  {
   "cell_type": "code",
   "execution_count": 458,
   "metadata": {},
   "outputs": [],
   "source": [
    "feats = [c for c in df.columns if c not in removed_cols]"
   ]
  },
  {
   "cell_type": "code",
   "execution_count": 459,
   "metadata": {},
   "outputs": [],
   "source": [
    "def logmse(y, pred):\n",
    "    g = mean_squared_error(y, pred)**(1/2)\n",
    "    return g"
   ]
  },
  {
   "cell_type": "code",
   "execution_count": 460,
   "metadata": {},
   "outputs": [],
   "source": [
    "def logmse_xgb(y, pred):\n",
    "    #y = y.get_label()\n",
    "    return \"logmse\", logmse(pred,y)"
   ]
  },
  {
   "cell_type": "code",
   "execution_count": 461,
   "metadata": {},
   "outputs": [],
   "source": [
    "logger = getLogger(__name__)"
   ]
  },
  {
   "cell_type": "code",
   "execution_count": 465,
   "metadata": {
    "scrolled": true
   },
   "outputs": [
    {
     "name": "stderr",
     "output_type": "stream",
     "text": [
      "\n",
      "\n",
      "\n",
      "\n",
      "\n",
      "\n",
      "\n",
      "\n",
      "\n",
      "\n",
      "  0%|                                                   | 0/72 [00:00<?, ?it/s]"
     ]
    },
    {
     "name": "stdout",
     "output_type": "stream",
     "text": [
      "[1]\tvalid_0's rmse: 1.43429\tvalid_0's l2: 2.05718\n",
      "Training until validation scores don't improve for 100 rounds.\n",
      "[2]\tvalid_0's rmse: 1.42703\tvalid_0's l2: 2.0364\n",
      "[3]\tvalid_0's rmse: 1.423\tvalid_0's l2: 2.02492\n",
      "[4]\tvalid_0's rmse: 1.41577\tvalid_0's l2: 2.0044\n",
      "[5]\tvalid_0's rmse: 1.40857\tvalid_0's l2: 1.98408\n",
      "[6]\tvalid_0's rmse: 1.40444\tvalid_0's l2: 1.97244\n",
      "[7]\tvalid_0's rmse: 1.39728\tvalid_0's l2: 1.95239\n",
      "[8]\tvalid_0's rmse: 1.39016\tvalid_0's l2: 1.93254\n",
      "[9]\tvalid_0's rmse: 1.3862\tvalid_0's l2: 1.92156\n",
      "[10]\tvalid_0's rmse: 1.37912\tvalid_0's l2: 1.90196\n",
      "[11]\tvalid_0's rmse: 1.37207\tvalid_0's l2: 1.88256\n",
      "[12]\tvalid_0's rmse: 1.36503\tvalid_0's l2: 1.8633\n",
      "[13]\tvalid_0's rmse: 1.35821\tvalid_0's l2: 1.84473\n",
      "[14]\tvalid_0's rmse: 1.35141\tvalid_0's l2: 1.82631\n",
      "[15]\tvalid_0's rmse: 1.34448\tvalid_0's l2: 1.80764\n",
      "[16]\tvalid_0's rmse: 1.33759\tvalid_0's l2: 1.78913\n",
      "[17]\tvalid_0's rmse: 1.33089\tvalid_0's l2: 1.77128\n",
      "[18]\tvalid_0's rmse: 1.32406\tvalid_0's l2: 1.75313\n",
      "[19]\tvalid_0's rmse: 1.32022\tvalid_0's l2: 1.74299\n",
      "[20]\tvalid_0's rmse: 1.3136\tvalid_0's l2: 1.72555\n",
      "[21]\tvalid_0's rmse: 1.30684\tvalid_0's l2: 1.70783\n",
      "[22]\tvalid_0's rmse: 1.30309\tvalid_0's l2: 1.69804\n",
      "[23]\tvalid_0's rmse: 1.29654\tvalid_0's l2: 1.68101\n",
      "[24]\tvalid_0's rmse: 1.29291\tvalid_0's l2: 1.67161\n",
      "[25]\tvalid_0's rmse: 1.28622\tvalid_0's l2: 1.65436\n",
      "[26]\tvalid_0's rmse: 1.27959\tvalid_0's l2: 1.63734\n",
      "[27]\tvalid_0's rmse: 1.27296\tvalid_0's l2: 1.62042\n",
      "[28]\tvalid_0's rmse: 1.26938\tvalid_0's l2: 1.61133\n",
      "[29]\tvalid_0's rmse: 1.26584\tvalid_0's l2: 1.60234\n",
      "[30]\tvalid_0's rmse: 1.25924\tvalid_0's l2: 1.58569\n",
      "[31]\tvalid_0's rmse: 1.25272\tvalid_0's l2: 1.56929\n",
      "[32]\tvalid_0's rmse: 1.24618\tvalid_0's l2: 1.55297\n",
      "[33]\tvalid_0's rmse: 1.23972\tvalid_0's l2: 1.5369\n",
      "[34]\tvalid_0's rmse: 1.23327\tvalid_0's l2: 1.52095\n",
      "[35]\tvalid_0's rmse: 1.227\tvalid_0's l2: 1.50553\n",
      "[36]\tvalid_0's rmse: 1.22347\tvalid_0's l2: 1.49689\n",
      "[37]\tvalid_0's rmse: 1.21712\tvalid_0's l2: 1.48138\n",
      "[38]\tvalid_0's rmse: 1.21084\tvalid_0's l2: 1.46614\n",
      "[39]\tvalid_0's rmse: 1.20458\tvalid_0's l2: 1.45101\n",
      "[40]\tvalid_0's rmse: 1.19842\tvalid_0's l2: 1.43622\n",
      "[41]\tvalid_0's rmse: 1.19235\tvalid_0's l2: 1.4217\n",
      "[42]\tvalid_0's rmse: 1.1862\tvalid_0's l2: 1.40707\n",
      "[43]\tvalid_0's rmse: 1.18023\tvalid_0's l2: 1.39295\n",
      "[44]\tvalid_0's rmse: 1.17419\tvalid_0's l2: 1.37871\n",
      "[45]\tvalid_0's rmse: 1.17076\tvalid_0's l2: 1.37068\n",
      "[46]\tvalid_0's rmse: 1.16485\tvalid_0's l2: 1.35688\n",
      "[47]\tvalid_0's rmse: 1.15879\tvalid_0's l2: 1.34281\n",
      "[48]\tvalid_0's rmse: 1.1528\tvalid_0's l2: 1.32896\n",
      "[49]\tvalid_0's rmse: 1.14685\tvalid_0's l2: 1.31526\n",
      "[50]\tvalid_0's rmse: 1.14093\tvalid_0's l2: 1.30173\n",
      "[51]\tvalid_0's rmse: 1.13509\tvalid_0's l2: 1.28843\n",
      "[52]\tvalid_0's rmse: 1.12926\tvalid_0's l2: 1.27522\n",
      "[53]\tvalid_0's rmse: 1.1235\tvalid_0's l2: 1.26225\n",
      "[54]\tvalid_0's rmse: 1.1179\tvalid_0's l2: 1.24971\n",
      "[55]\tvalid_0's rmse: 1.11239\tvalid_0's l2: 1.2374\n",
      "[56]\tvalid_0's rmse: 1.10666\tvalid_0's l2: 1.22469\n",
      "[57]\tvalid_0's rmse: 1.10108\tvalid_0's l2: 1.21239\n",
      "[58]\tvalid_0's rmse: 1.09787\tvalid_0's l2: 1.20531\n",
      "[59]\tvalid_0's rmse: 1.09231\tvalid_0's l2: 1.19314\n",
      "[60]\tvalid_0's rmse: 1.08675\tvalid_0's l2: 1.18103\n",
      "[61]\tvalid_0's rmse: 1.08356\tvalid_0's l2: 1.1741\n",
      "[62]\tvalid_0's rmse: 1.07753\tvalid_0's l2: 1.16107\n",
      "[63]\tvalid_0's rmse: 1.07176\tvalid_0's l2: 1.14866\n",
      "[64]\tvalid_0's rmse: 1.06849\tvalid_0's l2: 1.14168\n",
      "[65]\tvalid_0's rmse: 1.06323\tvalid_0's l2: 1.13045\n",
      "[66]\tvalid_0's rmse: 1.06014\tvalid_0's l2: 1.12391\n",
      "[67]\tvalid_0's rmse: 1.05446\tvalid_0's l2: 1.11188\n",
      "[68]\tvalid_0's rmse: 1.04893\tvalid_0's l2: 1.10025\n",
      "[69]\tvalid_0's rmse: 1.04371\tvalid_0's l2: 1.08934\n",
      "[70]\tvalid_0's rmse: 1.03788\tvalid_0's l2: 1.0772\n",
      "[71]\tvalid_0's rmse: 1.03218\tvalid_0's l2: 1.06541\n",
      "[72]\tvalid_0's rmse: 1.02643\tvalid_0's l2: 1.05356\n",
      "[73]\tvalid_0's rmse: 1.02044\tvalid_0's l2: 1.04131\n",
      "[74]\tvalid_0's rmse: 1.01484\tvalid_0's l2: 1.02989\n",
      "[75]\tvalid_0's rmse: 1.00895\tvalid_0's l2: 1.01797\n",
      "[76]\tvalid_0's rmse: 1.00342\tvalid_0's l2: 1.00684\n",
      "[77]\tvalid_0's rmse: 0.997994\tvalid_0's l2: 0.995992\n",
      "[78]\tvalid_0's rmse: 0.99255\tvalid_0's l2: 0.985156\n",
      "[79]\tvalid_0's rmse: 0.989479\tvalid_0's l2: 0.979069\n",
      "[80]\tvalid_0's rmse: 0.983892\tvalid_0's l2: 0.968043\n",
      "[81]\tvalid_0's rmse: 0.978619\tvalid_0's l2: 0.957695\n",
      "[82]\tvalid_0's rmse: 0.973362\tvalid_0's l2: 0.947434\n",
      "[83]\tvalid_0's rmse: 0.968149\tvalid_0's l2: 0.937313\n",
      "[84]\tvalid_0's rmse: 0.963004\tvalid_0's l2: 0.927377\n",
      "[85]\tvalid_0's rmse: 0.957847\tvalid_0's l2: 0.91747\n",
      "[86]\tvalid_0's rmse: 0.952568\tvalid_0's l2: 0.907386\n",
      "[87]\tvalid_0's rmse: 0.947262\tvalid_0's l2: 0.897305\n",
      "[88]\tvalid_0's rmse: 0.942306\tvalid_0's l2: 0.88794\n",
      "[89]\tvalid_0's rmse: 0.937148\tvalid_0's l2: 0.878246\n",
      "[90]\tvalid_0's rmse: 0.932284\tvalid_0's l2: 0.869154\n",
      "[91]\tvalid_0's rmse: 0.927456\tvalid_0's l2: 0.860174\n",
      "[92]\tvalid_0's rmse: 0.922798\tvalid_0's l2: 0.851556\n",
      "[93]\tvalid_0's rmse: 0.918101\tvalid_0's l2: 0.84291\n",
      "[94]\tvalid_0's rmse: 0.913591\tvalid_0's l2: 0.834649\n",
      "[95]\tvalid_0's rmse: 0.908744\tvalid_0's l2: 0.825815\n"
     ]
    },
    {
     "ename": "KeyboardInterrupt",
     "evalue": "",
     "output_type": "error",
     "traceback": [
      "\u001b[1;31m---------------------------------------------------------------------------\u001b[0m",
      "\u001b[1;31mKeyboardInterrupt\u001b[0m                         Traceback (most recent call last)",
      "\u001b[1;32m<ipython-input-465-b354b6438c55>\u001b[0m in \u001b[0;36m<module>\u001b[1;34m()\u001b[0m\n\u001b[0;32m     36\u001b[0m         \u001b[1;31m#clf = xgb.sklearn.XGBClassifier(**params)\u001b[0m\u001b[1;33m\u001b[0m\u001b[1;33m\u001b[0m\u001b[0m\n\u001b[0;32m     37\u001b[0m         \u001b[1;31m#clf.fit(trn_x, trn_y, eval_set=[(val_x, val_y)], early_stopping_rounds=100, eval_metric=logmse_xgb)\u001b[0m\u001b[1;33m\u001b[0m\u001b[1;33m\u001b[0m\u001b[0m\n\u001b[1;32m---> 38\u001b[1;33m         \u001b[0mclf\u001b[0m\u001b[1;33m.\u001b[0m\u001b[0mfit\u001b[0m\u001b[1;33m(\u001b[0m\u001b[0mtrn_x\u001b[0m\u001b[1;33m,\u001b[0m \u001b[0mtrn_y\u001b[0m\u001b[1;33m,\u001b[0m \u001b[0meval_set\u001b[0m\u001b[1;33m=\u001b[0m\u001b[1;33m[\u001b[0m\u001b[1;33m(\u001b[0m\u001b[0mval_x\u001b[0m\u001b[1;33m,\u001b[0m \u001b[0mval_y\u001b[0m\u001b[1;33m)\u001b[0m\u001b[1;33m]\u001b[0m\u001b[1;33m,\u001b[0m \u001b[0mearly_stopping_rounds\u001b[0m\u001b[1;33m=\u001b[0m\u001b[1;36m100\u001b[0m\u001b[1;33m,\u001b[0m \u001b[0meval_metric\u001b[0m\u001b[1;33m=\u001b[0m\u001b[1;34m\"rmse\"\u001b[0m\u001b[1;33m)\u001b[0m\u001b[1;33m\u001b[0m\u001b[0m\n\u001b[0m\u001b[0;32m     39\u001b[0m         \u001b[0my_pred\u001b[0m \u001b[1;33m=\u001b[0m \u001b[0mclf\u001b[0m\u001b[1;33m.\u001b[0m\u001b[0mpredict\u001b[0m\u001b[1;33m(\u001b[0m\u001b[0mval_x\u001b[0m\u001b[1;33m)\u001b[0m\u001b[1;33m\u001b[0m\u001b[0m\n\u001b[0;32m     40\u001b[0m \u001b[1;33m\u001b[0m\u001b[0m\n",
      "\u001b[1;32mC:\\ProgramData\\Anaconda3-5.1.0\\envs\\tensorflow-gpu-new\\lib\\site-packages\\lightgbm\\sklearn.py\u001b[0m in \u001b[0;36mfit\u001b[1;34m(self, X, y, sample_weight, init_score, eval_set, eval_names, eval_sample_weight, eval_init_score, eval_metric, early_stopping_rounds, verbose, feature_name, categorical_feature, callbacks)\u001b[0m\n\u001b[0;32m    667\u001b[0m                                        \u001b[0mverbose\u001b[0m\u001b[1;33m=\u001b[0m\u001b[0mverbose\u001b[0m\u001b[1;33m,\u001b[0m \u001b[0mfeature_name\u001b[0m\u001b[1;33m=\u001b[0m\u001b[0mfeature_name\u001b[0m\u001b[1;33m,\u001b[0m\u001b[1;33m\u001b[0m\u001b[0m\n\u001b[0;32m    668\u001b[0m                                        \u001b[0mcategorical_feature\u001b[0m\u001b[1;33m=\u001b[0m\u001b[0mcategorical_feature\u001b[0m\u001b[1;33m,\u001b[0m\u001b[1;33m\u001b[0m\u001b[0m\n\u001b[1;32m--> 669\u001b[1;33m                                        callbacks=callbacks)\n\u001b[0m\u001b[0;32m    670\u001b[0m         \u001b[1;32mreturn\u001b[0m \u001b[0mself\u001b[0m\u001b[1;33m\u001b[0m\u001b[0m\n\u001b[0;32m    671\u001b[0m \u001b[1;33m\u001b[0m\u001b[0m\n",
      "\u001b[1;32mC:\\ProgramData\\Anaconda3-5.1.0\\envs\\tensorflow-gpu-new\\lib\\site-packages\\lightgbm\\sklearn.py\u001b[0m in \u001b[0;36mfit\u001b[1;34m(self, X, y, sample_weight, init_score, group, eval_set, eval_names, eval_sample_weight, eval_class_weight, eval_init_score, eval_group, eval_metric, early_stopping_rounds, verbose, feature_name, categorical_feature, callbacks)\u001b[0m\n\u001b[0;32m    497\u001b[0m                               \u001b[0mverbose_eval\u001b[0m\u001b[1;33m=\u001b[0m\u001b[0mverbose\u001b[0m\u001b[1;33m,\u001b[0m \u001b[0mfeature_name\u001b[0m\u001b[1;33m=\u001b[0m\u001b[0mfeature_name\u001b[0m\u001b[1;33m,\u001b[0m\u001b[1;33m\u001b[0m\u001b[0m\n\u001b[0;32m    498\u001b[0m                               \u001b[0mcategorical_feature\u001b[0m\u001b[1;33m=\u001b[0m\u001b[0mcategorical_feature\u001b[0m\u001b[1;33m,\u001b[0m\u001b[1;33m\u001b[0m\u001b[0m\n\u001b[1;32m--> 499\u001b[1;33m                               callbacks=callbacks)\n\u001b[0m\u001b[0;32m    500\u001b[0m \u001b[1;33m\u001b[0m\u001b[0m\n\u001b[0;32m    501\u001b[0m         \u001b[1;32mif\u001b[0m \u001b[0mevals_result\u001b[0m\u001b[1;33m:\u001b[0m\u001b[1;33m\u001b[0m\u001b[0m\n",
      "\u001b[1;32mC:\\ProgramData\\Anaconda3-5.1.0\\envs\\tensorflow-gpu-new\\lib\\site-packages\\lightgbm\\engine.py\u001b[0m in \u001b[0;36mtrain\u001b[1;34m(params, train_set, num_boost_round, valid_sets, valid_names, fobj, feval, init_model, feature_name, categorical_feature, early_stopping_rounds, evals_result, verbose_eval, learning_rates, keep_training_booster, callbacks)\u001b[0m\n\u001b[0;32m    206\u001b[0m                                     evaluation_result_list=None))\n\u001b[0;32m    207\u001b[0m \u001b[1;33m\u001b[0m\u001b[0m\n\u001b[1;32m--> 208\u001b[1;33m         \u001b[0mbooster\u001b[0m\u001b[1;33m.\u001b[0m\u001b[0mupdate\u001b[0m\u001b[1;33m(\u001b[0m\u001b[0mfobj\u001b[0m\u001b[1;33m=\u001b[0m\u001b[0mfobj\u001b[0m\u001b[1;33m)\u001b[0m\u001b[1;33m\u001b[0m\u001b[0m\n\u001b[0m\u001b[0;32m    209\u001b[0m \u001b[1;33m\u001b[0m\u001b[0m\n\u001b[0;32m    210\u001b[0m         \u001b[0mevaluation_result_list\u001b[0m \u001b[1;33m=\u001b[0m \u001b[1;33m[\u001b[0m\u001b[1;33m]\u001b[0m\u001b[1;33m\u001b[0m\u001b[0m\n",
      "\u001b[1;32mC:\\ProgramData\\Anaconda3-5.1.0\\envs\\tensorflow-gpu-new\\lib\\site-packages\\lightgbm\\basic.py\u001b[0m in \u001b[0;36mupdate\u001b[1;34m(self, train_set, fobj)\u001b[0m\n\u001b[0;32m   1715\u001b[0m             _safe_call(_LIB.LGBM_BoosterUpdateOneIter(\n\u001b[0;32m   1716\u001b[0m                 \u001b[0mself\u001b[0m\u001b[1;33m.\u001b[0m\u001b[0mhandle\u001b[0m\u001b[1;33m,\u001b[0m\u001b[1;33m\u001b[0m\u001b[0m\n\u001b[1;32m-> 1717\u001b[1;33m                 ctypes.byref(is_finished)))\n\u001b[0m\u001b[0;32m   1718\u001b[0m             \u001b[0mself\u001b[0m\u001b[1;33m.\u001b[0m\u001b[0m__is_predicted_cur_iter\u001b[0m \u001b[1;33m=\u001b[0m \u001b[1;33m[\u001b[0m\u001b[1;32mFalse\u001b[0m \u001b[1;32mfor\u001b[0m \u001b[0m_\u001b[0m \u001b[1;32min\u001b[0m \u001b[0mrange_\u001b[0m\u001b[1;33m(\u001b[0m\u001b[0mself\u001b[0m\u001b[1;33m.\u001b[0m\u001b[0m__num_dataset\u001b[0m\u001b[1;33m)\u001b[0m\u001b[1;33m]\u001b[0m\u001b[1;33m\u001b[0m\u001b[0m\n\u001b[0;32m   1719\u001b[0m             \u001b[1;32mreturn\u001b[0m \u001b[0mis_finished\u001b[0m\u001b[1;33m.\u001b[0m\u001b[0mvalue\u001b[0m \u001b[1;33m==\u001b[0m \u001b[1;36m1\u001b[0m\u001b[1;33m\u001b[0m\u001b[0m\n",
      "\u001b[1;31mKeyboardInterrupt\u001b[0m: "
     ]
    }
   ],
   "source": [
    "kf = KFold(n_splits=5, shuffle=True, random_state=0)\n",
    "\n",
    "all_params = {'max_depth': [3, 5, 7],\n",
    "              'learning_rate':[0.1],\n",
    "              'min_child_weight':[3, 5, 7],\n",
    "             'n_estimators':[5000],\n",
    "              'colsample_bytree': [0.8, 0.9],\n",
    "              'colsample_bylevel':[0.8, 0.9],\n",
    "              'reg_alpha':[0, 0.1],\n",
    "              'max_delta_step':[0.1],\n",
    "            'n_jobs':[-1],\n",
    "            'random_state':[0]}\n",
    "\n",
    "x_train = df[feats]\n",
    "y_train = df['rentals'].values\n",
    "\n",
    "\n",
    "min_score = 100\n",
    "min_params = None\n",
    "\n",
    "for params in tqdm(list(ParameterGrid(all_params))):\n",
    "    logger.info('params: {}'.format(params))\n",
    "    \n",
    "    list_logmse_score = []\n",
    "    list_best_iterations = []\n",
    "\n",
    "\n",
    "    for train_idx, test_idx in kf.split(x_train, y_train):\n",
    "        trn_x = x_train.iloc[train_idx, :]\n",
    "        val_x = x_train.iloc[valid_idx, :]\n",
    "    \n",
    "        trn_y = y_train[train_idx]\n",
    "        val_y = y_train[valid_idx]\n",
    "    \n",
    "        clf = lgb.sklearn.LGBMRegressor(**params)\n",
    "        #clf = xgb.sklearn.XGBClassifier(**params)\n",
    "        #clf.fit(trn_x, trn_y, eval_set=[(val_x, val_y)], early_stopping_rounds=100, eval_metric=logmse_xgb)\n",
    "        clf.fit(trn_x, trn_y, eval_set=[(val_x, val_y)], early_stopping_rounds=100, eval_metric=\"rmse\")\n",
    "        y_pred = clf.predict(val_x)\n",
    "    \n",
    "        sc_logmse = logmse(val_y, y_pred)\n",
    "    \n",
    "        list_logmse_score.append(sc_logmse)\n",
    "        list_best_iterations.append(clf.best_iteration_)\n",
    "        logger.debug('logmse:{}'.format(sc_logmse))\n",
    "\n",
    "    params['n_estimators'] = int(np.mean(list_best_iterations))\n",
    "    sc_logmse = np.mean(list_logmse_score)\n",
    "    if min_score > sc_logmse:\n",
    "        min_score = sc_logmse\n",
    "        min_params = params\n",
    "\n",
    "logger.info('minimam params:{}'.format(min_params))\n",
    "logger.info('minimam logmse:{}'.format(min_score))\n",
    "print('minimam logmse:{}',min_score)\n",
    "#x_train, x_val, y_train, y_val = train_test_split(df[feats], df['rentals'].values, test_size = 0.3, random_state=0)\n",
    "clf = lgb.sklearn.LGBMRegressor(**min_params)\n",
    "#clf = xgb.sklearn.XGBClassifier(**min_params)\n",
    "clf.fit(x_train, y_train)"
   ]
  },
  {
   "cell_type": "code",
   "execution_count": 437,
   "metadata": {},
   "outputs": [
    {
     "data": {
      "text/plain": [
       "LGBMRegressor(boosting_type='gbdt', class_weight=None, colsample_bytree=1.0,\n",
       "       importance_type='split', learning_rate=0.1, max_depth=-1,\n",
       "       min_child_samples=20, min_child_weight=0.001, min_split_gain=0.0,\n",
       "       n_estimators=4000, n_jobs=-1, num_leaves=31, objective=None,\n",
       "       random_state=0, reg_alpha=0.0, reg_lambda=0.0, silent=True,\n",
       "       subsample=1.0, subsample_for_bin=200000, subsample_freq=0)"
      ]
     },
     "execution_count": 437,
     "metadata": {},
     "output_type": "execute_result"
    }
   ],
   "source": [
    "clf = lgb.sklearn.LGBMRegressor(random_state=0, n_estimators=4000)\n",
    "clf.fit(x_train, y_train)"
   ]
  },
  {
   "cell_type": "code",
   "execution_count": 438,
   "metadata": {},
   "outputs": [],
   "source": [
    "test['count'] = np.exp(clf.predict(test[feats]))"
   ]
  },
  {
   "cell_type": "code",
   "execution_count": 439,
   "metadata": {},
   "outputs": [],
   "source": [
    "test[['datetime', 'count']].to_csv('grid_gb.csv', index=False)"
   ]
  },
  {
   "cell_type": "code",
   "execution_count": 306,
   "metadata": {},
   "outputs": [
    {
     "data": {
      "text/html": [
       "<div>\n",
       "<style scoped>\n",
       "    .dataframe tbody tr th:only-of-type {\n",
       "        vertical-align: middle;\n",
       "    }\n",
       "\n",
       "    .dataframe tbody tr th {\n",
       "        vertical-align: top;\n",
       "    }\n",
       "\n",
       "    .dataframe thead th {\n",
       "        text-align: right;\n",
       "    }\n",
       "</style>\n",
       "<table border=\"1\" class=\"dataframe\">\n",
       "  <thead>\n",
       "    <tr style=\"text-align: right;\">\n",
       "      <th></th>\n",
       "      <th>season</th>\n",
       "      <th>workingday</th>\n",
       "      <th>weather</th>\n",
       "      <th>temp</th>\n",
       "      <th>humidity</th>\n",
       "      <th>windspeed</th>\n",
       "      <th>year</th>\n",
       "      <th>day</th>\n",
       "      <th>dayofweek</th>\n",
       "      <th>hour</th>\n",
       "    </tr>\n",
       "  </thead>\n",
       "  <tbody>\n",
       "    <tr>\n",
       "      <th>0</th>\n",
       "      <td>1</td>\n",
       "      <td>0</td>\n",
       "      <td>1</td>\n",
       "      <td>9.84</td>\n",
       "      <td>81</td>\n",
       "      <td>0.0</td>\n",
       "      <td>2011</td>\n",
       "      <td>1</td>\n",
       "      <td>5</td>\n",
       "      <td>0</td>\n",
       "    </tr>\n",
       "    <tr>\n",
       "      <th>1</th>\n",
       "      <td>1</td>\n",
       "      <td>0</td>\n",
       "      <td>1</td>\n",
       "      <td>9.02</td>\n",
       "      <td>80</td>\n",
       "      <td>0.0</td>\n",
       "      <td>2011</td>\n",
       "      <td>1</td>\n",
       "      <td>5</td>\n",
       "      <td>1</td>\n",
       "    </tr>\n",
       "    <tr>\n",
       "      <th>2</th>\n",
       "      <td>1</td>\n",
       "      <td>0</td>\n",
       "      <td>1</td>\n",
       "      <td>9.02</td>\n",
       "      <td>80</td>\n",
       "      <td>0.0</td>\n",
       "      <td>2011</td>\n",
       "      <td>1</td>\n",
       "      <td>5</td>\n",
       "      <td>2</td>\n",
       "    </tr>\n",
       "    <tr>\n",
       "      <th>3</th>\n",
       "      <td>1</td>\n",
       "      <td>0</td>\n",
       "      <td>1</td>\n",
       "      <td>9.84</td>\n",
       "      <td>75</td>\n",
       "      <td>0.0</td>\n",
       "      <td>2011</td>\n",
       "      <td>1</td>\n",
       "      <td>5</td>\n",
       "      <td>3</td>\n",
       "    </tr>\n",
       "    <tr>\n",
       "      <th>4</th>\n",
       "      <td>1</td>\n",
       "      <td>0</td>\n",
       "      <td>1</td>\n",
       "      <td>9.84</td>\n",
       "      <td>75</td>\n",
       "      <td>0.0</td>\n",
       "      <td>2011</td>\n",
       "      <td>1</td>\n",
       "      <td>5</td>\n",
       "      <td>4</td>\n",
       "    </tr>\n",
       "  </tbody>\n",
       "</table>\n",
       "</div>"
      ],
      "text/plain": [
       "   season  workingday  weather  temp  humidity  windspeed  year  day  \\\n",
       "0       1           0        1  9.84        81        0.0  2011    1   \n",
       "1       1           0        1  9.02        80        0.0  2011    1   \n",
       "2       1           0        1  9.02        80        0.0  2011    1   \n",
       "3       1           0        1  9.84        75        0.0  2011    1   \n",
       "4       1           0        1  9.84        75        0.0  2011    1   \n",
       "\n",
       "   dayofweek  hour  \n",
       "0          5     0  \n",
       "1          5     1  \n",
       "2          5     2  \n",
       "3          5     3  \n",
       "4          5     4  "
      ]
     },
     "execution_count": 306,
     "metadata": {},
     "output_type": "execute_result"
    }
   ],
   "source": [
    "df[feats].head()"
   ]
  },
  {
   "cell_type": "code",
   "execution_count": 322,
   "metadata": {},
   "outputs": [
    {
     "name": "stdout",
     "output_type": "stream",
     "text": [
      "Feature Importances:\n",
      "\tworkingday :     154.0000\n",
      "\tweather    :     124.0000\n",
      "\ttemp       :     341.0000\n",
      "\thumidity   :     277.0000\n",
      "\twindspeed  :     138.0000\n",
      "\tyear       :     104.0000\n",
      "\tmonth      :     308.0000\n",
      "\tday        :     211.0000\n",
      "\tdayofweek  :     327.0000\n",
      "\thour       :    1016.0000\n"
     ]
    }
   ],
   "source": [
    "fti = clf.feature_importances_\n",
    "\n",
    "print('Feature Importances:')\n",
    "for i, feat in enumerate(x_train[feats]):\n",
    "    print('\\t{0:10s} : {1:>12.4f}'.format(feat, fti[i]))"
   ]
  },
  {
   "cell_type": "code",
   "execution_count": null,
   "metadata": {},
   "outputs": [],
   "source": []
  }
 ],
 "metadata": {
  "kernelspec": {
   "display_name": "Python 3",
   "language": "python",
   "name": "python3"
  },
  "language_info": {
   "codemirror_mode": {
    "name": "ipython",
    "version": 3
   },
   "file_extension": ".py",
   "mimetype": "text/x-python",
   "name": "python",
   "nbconvert_exporter": "python",
   "pygments_lexer": "ipython3",
   "version": "3.5.6"
  }
 },
 "nbformat": 4,
 "nbformat_minor": 2
}
